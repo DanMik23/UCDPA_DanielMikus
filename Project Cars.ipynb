{
 "cells": [
  {
   "cell_type": "code",
   "execution_count": 1,
   "id": "6bd19f1e",
   "metadata": {},
   "outputs": [],
   "source": [
    "#Importing packages that I will use in my project\n",
    "import pandas as pd\n",
    "import numpy as np\n",
    "import requests\n",
    "import seaborn as sns\n",
    "import matplotlib.pyplot as plt\n",
    "from bs4 import BeautifulSoup"
   ]
  },
  {
   "cell_type": "code",
   "execution_count": 2,
   "id": "b9871383",
   "metadata": {},
   "outputs": [
    {
     "name": "stdout",
     "output_type": "stream",
     "text": [
      "       Year                          Car  Points\n",
      "0    2001.0                          NaN     NaN\n",
      "1       NaN               Alfa Romeo 147   238.0\n",
      "2       NaN                  Ford Mondeo   237.0\n",
      "3       NaN                 Toyota Prius   229.0\n",
      "4       NaN                      Audi A2   184.0\n",
      "..      ...                          ...     ...\n",
      "179     NaN                 Nissan Ariya   211.0\n",
      "180     NaN                     Kia Niro   200.0\n",
      "181     NaN              Renault Austral   163.0\n",
      "182     NaN                  Peugeot 408   149.0\n",
      "183     NaN  Subaru Solterra/Toyota bZ4X   133.0\n",
      "\n",
      "[184 rows x 3 columns]\n"
     ]
    }
   ],
   "source": [
    "#fetch the HTML content of the web page at the given URL and create a BeautifulSoup object to parse and work with that HTML content.\n",
    "response = requests.get(\"https://en.wikipedia.org/wiki/European_Car_of_the_Year\")\n",
    "soup = BeautifulSoup(response.content, 'html.parser')\n",
    "\n",
    "ecotytable = soup.find('table', {'class': 'wikitable'})\n",
    "\n",
    "df = pd.read_html(str(ecotytable))\n",
    "\n",
    "# Concatenate the DataFrames into a single DataFrame ecoty - European Car Of The Year\n",
    "ecoty = pd.concat(df)\n",
    "\n",
    "# Print the resulting DataFrame\n",
    "print(ecoty)"
   ]
  },
  {
   "cell_type": "code",
   "execution_count": 3,
   "id": "19ea4826",
   "metadata": {},
   "outputs": [
    {
     "name": "stdout",
     "output_type": "stream",
     "text": [
      "     Year  Place                          Car  Points\n",
      "1     NaN      1               Alfa Romeo 147   238.0\n",
      "2     NaN      2                  Ford Mondeo   237.0\n",
      "3     NaN      3                 Toyota Prius   229.0\n",
      "4     NaN      4                      Audi A2   184.0\n",
      "5     NaN      5        Mercedes-Benz C-Class   164.0\n",
      "..    ...    ...                          ...     ...\n",
      "179   NaN      3                 Nissan Ariya   211.0\n",
      "180   NaN      4                     Kia Niro   200.0\n",
      "181   NaN      5              Renault Austral   163.0\n",
      "182   NaN      6                  Peugeot 408   149.0\n",
      "183   NaN      7  Subaru Solterra/Toyota bZ4X   133.0\n",
      "\n",
      "[161 rows x 4 columns]\n"
     ]
    }
   ],
   "source": [
    "# Filter and delete rows starting with \"20**\" in column Year\n",
    "ecoty= ecoty[~ecoty['Year'].astype(str).str.startswith(\"20\")]\n",
    "\n",
    "# Generate the numbers from 1 to 7 repeating pattern - table online shows punctation for 7 best places every year\n",
    "numbers = list(range(1, 8))\n",
    "places = numbers * (len(ecoty) // len(numbers)) + numbers[:len(ecoty) % len(numbers)]\n",
    "\n",
    "# Insert the \"Place\" column in the DataFrame\n",
    "ecoty.insert(1, \"Place\", places)\n",
    "\n",
    "print(ecoty)"
   ]
  },
  {
   "cell_type": "code",
   "execution_count": 4,
   "id": "d5043d20",
   "metadata": {},
   "outputs": [],
   "source": [
    "# Create a custom function to fill data into \"Year\" column as in online table every year from 2001 to 2023 there was 7 places for each year \n",
    "def fill_year(row):\n",
    "    start_year = 2001\n",
    "    row_index = row.name\n",
    "    row['Year'] = start_year + row_index // 8\n",
    "    return row\n",
    "\n",
    "# Apply the function to fill the \"Year\" column\n",
    "ecoty = ecoty.apply(fill_year, axis=1)"
   ]
  },
  {
   "cell_type": "code",
   "execution_count": 5,
   "id": "7d03ce5d",
   "metadata": {},
   "outputs": [],
   "source": [
    "#Keep only 1st place in column Place\n",
    "ecoty_updated = ecoty[ecoty['Place'] == 1]"
   ]
  },
  {
   "cell_type": "code",
   "execution_count": 6,
   "id": "5313758c",
   "metadata": {},
   "outputs": [],
   "source": [
    "# Reset the index in the sorted DataFrame\n",
    "ecoty_updated = ecoty_updated.reset_index(drop=True)"
   ]
  },
  {
   "cell_type": "code",
   "execution_count": 7,
   "id": "459af559",
   "metadata": {},
   "outputs": [],
   "source": [
    "#Replace word Vauxall in colun Car for Opel\n",
    "ecoty_updated['Car'] = ecoty_updated['Car'].str.replace('Vauxhall', 'Opel')"
   ]
  },
  {
   "cell_type": "code",
   "execution_count": 8,
   "id": "8e52191c",
   "metadata": {},
   "outputs": [],
   "source": [
    "row_to_duplicate = ecoty_updated.loc[11].copy()\n",
    "row_to_duplicate['Car'] = row_to_duplicate['Car'].split('/')[-1]\n",
    "ecoty_updated = ecoty_updated.append(row_to_duplicate, ignore_index=True)"
   ]
  },
  {
   "cell_type": "code",
   "execution_count": 9,
   "id": "a6980f05",
   "metadata": {},
   "outputs": [],
   "source": [
    "ecoty_updated.loc[11, 'Car'] = ecoty_updated.loc[11, 'Car'].split('/')[0]"
   ]
  },
  {
   "cell_type": "code",
   "execution_count": 10,
   "id": "9553f2c1",
   "metadata": {},
   "outputs": [],
   "source": [
    "# Convert the \"Points\" column to numeric\n",
    "ecoty_updated['Points'] = pd.to_numeric(ecoty_updated['Points'])\n",
    "ecoty_updated['Place'] = pd.to_numeric(ecoty_updated['Place'])"
   ]
  },
  {
   "cell_type": "code",
   "execution_count": 11,
   "id": "22aee59a",
   "metadata": {},
   "outputs": [],
   "source": [
    "# Rename the \"Car \" column to \"model\"\n",
    "ecoty_updated.rename(columns={'Car ': 'model'}, inplace=True)"
   ]
  },
  {
   "cell_type": "code",
   "execution_count": 12,
   "id": "40809ee7",
   "metadata": {},
   "outputs": [],
   "source": [
    "# Rename the \"Car\" column to \"model\"\n",
    "ecoty_updated = ecoty_updated.rename(columns={'Car': 'model'})"
   ]
  },
  {
   "cell_type": "code",
   "execution_count": 13,
   "id": "c6d5c578",
   "metadata": {},
   "outputs": [],
   "source": [
    "# Split the \"model\" column to extract the brand\n",
    "ecoty_updated['brand'] = ecoty_updated['model'].str.split(' ', 1).str[0]"
   ]
  },
  {
   "cell_type": "code",
   "execution_count": 14,
   "id": "357319ef",
   "metadata": {},
   "outputs": [
    {
     "data": {
      "text/html": [
       "<div>\n",
       "<style scoped>\n",
       "    .dataframe tbody tr th:only-of-type {\n",
       "        vertical-align: middle;\n",
       "    }\n",
       "\n",
       "    .dataframe tbody tr th {\n",
       "        vertical-align: top;\n",
       "    }\n",
       "\n",
       "    .dataframe thead th {\n",
       "        text-align: right;\n",
       "    }\n",
       "</style>\n",
       "<table border=\"1\" class=\"dataframe\">\n",
       "  <thead>\n",
       "    <tr style=\"text-align: right;\">\n",
       "      <th></th>\n",
       "      <th>Year</th>\n",
       "      <th>Place</th>\n",
       "      <th>model</th>\n",
       "      <th>Points</th>\n",
       "      <th>brand</th>\n",
       "    </tr>\n",
       "  </thead>\n",
       "  <tbody>\n",
       "    <tr>\n",
       "      <th>0</th>\n",
       "      <td>2001</td>\n",
       "      <td>1</td>\n",
       "      <td>Alfa Romeo 147</td>\n",
       "      <td>238.0</td>\n",
       "      <td>Alfa</td>\n",
       "    </tr>\n",
       "    <tr>\n",
       "      <th>1</th>\n",
       "      <td>2002</td>\n",
       "      <td>1</td>\n",
       "      <td>Peugeot 307</td>\n",
       "      <td>286.0</td>\n",
       "      <td>Peugeot</td>\n",
       "    </tr>\n",
       "    <tr>\n",
       "      <th>2</th>\n",
       "      <td>2003</td>\n",
       "      <td>1</td>\n",
       "      <td>Renault Mégane</td>\n",
       "      <td>322.0</td>\n",
       "      <td>Renault</td>\n",
       "    </tr>\n",
       "    <tr>\n",
       "      <th>3</th>\n",
       "      <td>2004</td>\n",
       "      <td>1</td>\n",
       "      <td>Fiat Panda</td>\n",
       "      <td>281.0</td>\n",
       "      <td>Fiat</td>\n",
       "    </tr>\n",
       "    <tr>\n",
       "      <th>4</th>\n",
       "      <td>2005</td>\n",
       "      <td>1</td>\n",
       "      <td>Toyota Prius</td>\n",
       "      <td>406.0</td>\n",
       "      <td>Toyota</td>\n",
       "    </tr>\n",
       "    <tr>\n",
       "      <th>5</th>\n",
       "      <td>2006</td>\n",
       "      <td>1</td>\n",
       "      <td>Renault Clio</td>\n",
       "      <td>256.0</td>\n",
       "      <td>Renault</td>\n",
       "    </tr>\n",
       "    <tr>\n",
       "      <th>6</th>\n",
       "      <td>2007</td>\n",
       "      <td>1</td>\n",
       "      <td>Ford S-Max</td>\n",
       "      <td>235.0</td>\n",
       "      <td>Ford</td>\n",
       "    </tr>\n",
       "    <tr>\n",
       "      <th>7</th>\n",
       "      <td>2008</td>\n",
       "      <td>1</td>\n",
       "      <td>Fiat 500</td>\n",
       "      <td>385.0</td>\n",
       "      <td>Fiat</td>\n",
       "    </tr>\n",
       "    <tr>\n",
       "      <th>8</th>\n",
       "      <td>2009</td>\n",
       "      <td>1</td>\n",
       "      <td>Opel Insignia</td>\n",
       "      <td>321.0</td>\n",
       "      <td>Opel</td>\n",
       "    </tr>\n",
       "    <tr>\n",
       "      <th>9</th>\n",
       "      <td>2010</td>\n",
       "      <td>1</td>\n",
       "      <td>Volkswagen Polo</td>\n",
       "      <td>347.0</td>\n",
       "      <td>Volkswagen</td>\n",
       "    </tr>\n",
       "    <tr>\n",
       "      <th>10</th>\n",
       "      <td>2011</td>\n",
       "      <td>1</td>\n",
       "      <td>Nissan Leaf</td>\n",
       "      <td>257.0</td>\n",
       "      <td>Nissan</td>\n",
       "    </tr>\n",
       "    <tr>\n",
       "      <th>11</th>\n",
       "      <td>2012</td>\n",
       "      <td>1</td>\n",
       "      <td>Chevrolet Volt</td>\n",
       "      <td>330.0</td>\n",
       "      <td>Chevrolet</td>\n",
       "    </tr>\n",
       "    <tr>\n",
       "      <th>12</th>\n",
       "      <td>2013</td>\n",
       "      <td>1</td>\n",
       "      <td>Volkswagen Golf[7]</td>\n",
       "      <td>414.0</td>\n",
       "      <td>Volkswagen</td>\n",
       "    </tr>\n",
       "    <tr>\n",
       "      <th>13</th>\n",
       "      <td>2014</td>\n",
       "      <td>1</td>\n",
       "      <td>Peugeot 308</td>\n",
       "      <td>307.0</td>\n",
       "      <td>Peugeot</td>\n",
       "    </tr>\n",
       "    <tr>\n",
       "      <th>14</th>\n",
       "      <td>2015</td>\n",
       "      <td>1</td>\n",
       "      <td>Volkswagen Passat</td>\n",
       "      <td>340.0</td>\n",
       "      <td>Volkswagen</td>\n",
       "    </tr>\n",
       "    <tr>\n",
       "      <th>15</th>\n",
       "      <td>2016</td>\n",
       "      <td>1</td>\n",
       "      <td>Opel Astra</td>\n",
       "      <td>312.0</td>\n",
       "      <td>Opel</td>\n",
       "    </tr>\n",
       "    <tr>\n",
       "      <th>16</th>\n",
       "      <td>2017</td>\n",
       "      <td>1</td>\n",
       "      <td>Peugeot 3008</td>\n",
       "      <td>319.0</td>\n",
       "      <td>Peugeot</td>\n",
       "    </tr>\n",
       "    <tr>\n",
       "      <th>17</th>\n",
       "      <td>2018</td>\n",
       "      <td>1</td>\n",
       "      <td>Volvo XC40</td>\n",
       "      <td>325.0</td>\n",
       "      <td>Volvo</td>\n",
       "    </tr>\n",
       "    <tr>\n",
       "      <th>18</th>\n",
       "      <td>2019</td>\n",
       "      <td>1</td>\n",
       "      <td>Jaguar I-Pace</td>\n",
       "      <td>250.0</td>\n",
       "      <td>Jaguar</td>\n",
       "    </tr>\n",
       "    <tr>\n",
       "      <th>19</th>\n",
       "      <td>2020</td>\n",
       "      <td>1</td>\n",
       "      <td>Peugeot 208</td>\n",
       "      <td>281.0</td>\n",
       "      <td>Peugeot</td>\n",
       "    </tr>\n",
       "    <tr>\n",
       "      <th>20</th>\n",
       "      <td>2021</td>\n",
       "      <td>1</td>\n",
       "      <td>Toyota Yaris</td>\n",
       "      <td>266.0</td>\n",
       "      <td>Toyota</td>\n",
       "    </tr>\n",
       "    <tr>\n",
       "      <th>21</th>\n",
       "      <td>2022</td>\n",
       "      <td>1</td>\n",
       "      <td>Kia EV6</td>\n",
       "      <td>279.0</td>\n",
       "      <td>Kia</td>\n",
       "    </tr>\n",
       "    <tr>\n",
       "      <th>22</th>\n",
       "      <td>2023</td>\n",
       "      <td>1</td>\n",
       "      <td>Jeep Avenger</td>\n",
       "      <td>328.0</td>\n",
       "      <td>Jeep</td>\n",
       "    </tr>\n",
       "    <tr>\n",
       "      <th>23</th>\n",
       "      <td>2012</td>\n",
       "      <td>1</td>\n",
       "      <td>Opel Ampera</td>\n",
       "      <td>330.0</td>\n",
       "      <td>Opel</td>\n",
       "    </tr>\n",
       "  </tbody>\n",
       "</table>\n",
       "</div>"
      ],
      "text/plain": [
       "    Year  Place               model  Points       brand\n",
       "0   2001      1      Alfa Romeo 147   238.0        Alfa\n",
       "1   2002      1         Peugeot 307   286.0     Peugeot\n",
       "2   2003      1      Renault Mégane   322.0     Renault\n",
       "3   2004      1          Fiat Panda   281.0        Fiat\n",
       "4   2005      1        Toyota Prius   406.0      Toyota\n",
       "5   2006      1        Renault Clio   256.0     Renault\n",
       "6   2007      1          Ford S-Max   235.0        Ford\n",
       "7   2008      1            Fiat 500   385.0        Fiat\n",
       "8   2009      1       Opel Insignia   321.0        Opel\n",
       "9   2010      1     Volkswagen Polo   347.0  Volkswagen\n",
       "10  2011      1         Nissan Leaf   257.0      Nissan\n",
       "11  2012      1      Chevrolet Volt   330.0   Chevrolet\n",
       "12  2013      1  Volkswagen Golf[7]   414.0  Volkswagen\n",
       "13  2014      1         Peugeot 308   307.0     Peugeot\n",
       "14  2015      1   Volkswagen Passat   340.0  Volkswagen\n",
       "15  2016      1          Opel Astra   312.0        Opel\n",
       "16  2017      1        Peugeot 3008   319.0     Peugeot\n",
       "17  2018      1          Volvo XC40   325.0       Volvo\n",
       "18  2019      1       Jaguar I-Pace   250.0      Jaguar\n",
       "19  2020      1         Peugeot 208   281.0     Peugeot\n",
       "20  2021      1        Toyota Yaris   266.0      Toyota\n",
       "21  2022      1             Kia EV6   279.0         Kia\n",
       "22  2023      1        Jeep Avenger   328.0        Jeep\n",
       "23  2012      1         Opel Ampera   330.0        Opel"
      ]
     },
     "execution_count": 14,
     "metadata": {},
     "output_type": "execute_result"
    }
   ],
   "source": [
    "ecoty_updated"
   ]
  },
  {
   "cell_type": "code",
   "execution_count": 15,
   "id": "67f658e2",
   "metadata": {},
   "outputs": [],
   "source": [
    "#export to csv file\n",
    "ecoty_updated.to_csv(\"Car_of_the_Year.csv\", index=False)"
   ]
  },
  {
   "cell_type": "code",
   "execution_count": 16,
   "id": "0daff8de",
   "metadata": {},
   "outputs": [
    {
     "data": {
      "image/png": "[encoded data removed]",
      "text/plain": [
       "<Figure size 432x288 with 1 Axes>"
      ]
     },
     "metadata": {
      "needs_background": "light"
     },
     "output_type": "display_data"
    }
   ],
   "source": [
    "# Sort the DataFrame by 'Points' in descending order\n",
    "ecoty_updated = ecoty_updated.sort_values('Points', ascending=False)\n",
    "\n",
    "# Get the top 10 models with the most points\n",
    "top_10_models = ecoty_updated.head(10)\n",
    "\n",
    "# Create a bar plot to visualize the top 10 models\n",
    "plt.bar(top_10_models['model'], top_10_models['Points'])\n",
    "plt.xlabel('Car Model')\n",
    "plt.ylabel('Points')\n",
    "plt.title('Top 10 Car Models with Most Points')\n",
    "plt.xticks(rotation=90)\n",
    "\n",
    "# Show the plot\n",
    "plt.tight_layout()\n",
    "plt.show()"
   ]
  },
  {
   "cell_type": "code",
   "execution_count": 17,
   "id": "bcf79cb6",
   "metadata": {},
   "outputs": [
    {
     "data": {
      "image/png": "[encoded data removed]",
      "text/plain": [
       "<Figure size 432x288 with 1 Axes>"
      ]
     },
     "metadata": {
      "needs_background": "light"
     },
     "output_type": "display_data"
    }
   ],
   "source": [
    "# Create a colormap with a gradient of colors\n",
    "cmap = plt.cm.get_cmap('coolwarm')\n",
    "\n",
    "# Count the occurrences of each brand in the first place\n",
    "brand_counts = ecoty_updated[ecoty_updated['Place'] == 1]['brand'].value_counts()\n",
    "\n",
    "\n",
    "# Normalize the counts to a range between 0 and 1\n",
    "normalized_counts = (brand_counts.values - brand_counts.values.min()) / (brand_counts.values.max() - brand_counts.values.min())\n",
    "\n",
    "# Create a bar plot with the gradient color effect\n",
    "plt.bar(brand_counts.index, brand_counts.values, color=cmap(normalized_counts))\n",
    "\n",
    "# Set the x-axis label, y-axis label, and plot title\n",
    "plt.xlabel('Brand')\n",
    "plt.ylabel('Count')\n",
    "plt.title('Number of 1st Place Occurrences by Brand in European Car Of The Year awards')\n",
    "\n",
    "# Rotate the x-axis labels for better readability\n",
    "plt.xticks(rotation=90)\n",
    "\n",
    "# Show the plot\n",
    "plt.tight_layout()\n",
    "plt.show()"
   ]
  },
  {
   "cell_type": "code",
   "execution_count": 18,
   "id": "b89bc5d7",
   "metadata": {},
   "outputs": [
    {
     "name": "stdout",
     "output_type": "stream",
     "text": [
      "Requirement already satisfied: opendatasets in /Users/daniel/opt/anaconda3/lib/python3.8/site-packages (0.1.22)\n",
      "Requirement already satisfied: click in /Users/daniel/opt/anaconda3/lib/python3.8/site-packages (from opendatasets) (7.1.2)\n",
      "Requirement already satisfied: kaggle in /Users/daniel/opt/anaconda3/lib/python3.8/site-packages (from opendatasets) (1.5.13)\n",
      "Requirement already satisfied: tqdm in /Users/daniel/opt/anaconda3/lib/python3.8/site-packages (from opendatasets) (4.59.0)\n",
      "Requirement already satisfied: certifi in /Users/daniel/opt/anaconda3/lib/python3.8/site-packages (from kaggle->opendatasets) (2020.12.5)\n",
      "Requirement already satisfied: python-slugify in /Users/daniel/opt/anaconda3/lib/python3.8/site-packages (from kaggle->opendatasets) (8.0.1)\n",
      "Requirement already satisfied: requests in /Users/daniel/opt/anaconda3/lib/python3.8/site-packages (from kaggle->opendatasets) (2.25.1)\n",
      "Requirement already satisfied: six>=1.10 in /Users/daniel/opt/anaconda3/lib/python3.8/site-packages (from kaggle->opendatasets) (1.15.0)\n",
      "Requirement already satisfied: urllib3 in /Users/daniel/opt/anaconda3/lib/python3.8/site-packages (from kaggle->opendatasets) (1.26.4)\n",
      "Requirement already satisfied: python-dateutil in /Users/daniel/opt/anaconda3/lib/python3.8/site-packages (from kaggle->opendatasets) (2.8.1)\n",
      "Requirement already satisfied: text-unidecode>=1.3 in /Users/daniel/opt/anaconda3/lib/python3.8/site-packages (from python-slugify->kaggle->opendatasets) (1.3)\n",
      "Requirement already satisfied: idna<3,>=2.5 in /Users/daniel/opt/anaconda3/lib/python3.8/site-packages (from requests->kaggle->opendatasets) (2.10)\n",
      "Requirement already satisfied: chardet<5,>=3.0.2 in /Users/daniel/opt/anaconda3/lib/python3.8/site-packages (from requests->kaggle->opendatasets) (4.0.0)\n"
     ]
    }
   ],
   "source": [
    "#Installing opendatasets from Kaggle\n",
    "!pip install opendatasets"
   ]
  },
  {
   "cell_type": "code",
   "execution_count": 19,
   "id": "0d8c1885",
   "metadata": {},
   "outputs": [
    {
     "name": "stdout",
     "output_type": "stream",
     "text": [
      "Please provide your Kaggle credentials to download this dataset. Learn more: http://bit.ly/kaggle-creds\n",
      "Your Kaggle username: danielmiku\n",
      "Your Kaggle Key: ········\n"
     ]
    },
    {
     "name": "stderr",
     "output_type": "stream",
     "text": [
      "\r",
      "  0%|          | 0.00/1.27M [00:00<?, ?B/s]"
     ]
    },
    {
     "name": "stdout",
     "output_type": "stream",
     "text": [
      "Downloading poland-used-cars-offers.zip to ./poland-used-cars-offers\n"
     ]
    },
    {
     "name": "stderr",
     "output_type": "stream",
     "text": [
      "100%|██████████| 1.27M/1.27M [00:00<00:00, 3.66MB/s]"
     ]
    },
    {
     "name": "stdout",
     "output_type": "stream",
     "text": [
      "\n"
     ]
    },
    {
     "name": "stderr",
     "output_type": "stream",
     "text": [
      "\n"
     ]
    }
   ],
   "source": [
    "#Importing opendatasets as od\n",
    "import opendatasets as od\n",
    "\n",
    "#Downloading First Dataset - All Airports across the world from Kaggle using API and creating Token/downloadingle with username and Kaggle Key information\n",
    "od.download(\n",
    "\t\"https://www.kaggle.com/datasets/wspirat/poland-used-cars-offers\")"
   ]
  },
  {
   "cell_type": "code",
   "execution_count": 20,
   "id": "1ab418c2",
   "metadata": {},
   "outputs": [],
   "source": [
    "#assigning data.csv file downloaded from Kaggle as used_cars\n",
    "used_cars =('poland-used-cars-offers/\\\n",
    "data.csv')\n",
    "\n",
    "#using pandas assigning cars to read csv file\n",
    "cars = pd.read_csv(used_cars)"
   ]
  },
  {
   "cell_type": "code",
   "execution_count": 21,
   "id": "1db8442e",
   "metadata": {},
   "outputs": [
    {
     "data": {
      "text/html": [
       "<div>\n",
       "<style scoped>\n",
       "    .dataframe tbody tr th:only-of-type {\n",
       "        vertical-align: middle;\n",
       "    }\n",
       "\n",
       "    .dataframe tbody tr th {\n",
       "        vertical-align: top;\n",
       "    }\n",
       "\n",
       "    .dataframe thead th {\n",
       "        text-align: right;\n",
       "    }\n",
       "</style>\n",
       "<table border=\"1\" class=\"dataframe\">\n",
       "  <thead>\n",
       "    <tr style=\"text-align: right;\">\n",
       "      <th></th>\n",
       "      <th>brand</th>\n",
       "      <th>model</th>\n",
       "      <th>price_in_pln</th>\n",
       "      <th>mileage</th>\n",
       "      <th>gearbox</th>\n",
       "      <th>engine_capacity</th>\n",
       "      <th>fuel_type</th>\n",
       "      <th>city</th>\n",
       "      <th>voivodeship</th>\n",
       "      <th>year</th>\n",
       "    </tr>\n",
       "  </thead>\n",
       "  <tbody>\n",
       "    <tr>\n",
       "      <th>0</th>\n",
       "      <td>alfa-romeo</td>\n",
       "      <td>Alfa Romeo Spider 2.0-16 TSpark</td>\n",
       "      <td>14700.0</td>\n",
       "      <td>133 760 km</td>\n",
       "      <td>manual</td>\n",
       "      <td>1 970 cm3</td>\n",
       "      <td>Benzyna</td>\n",
       "      <td>Łask</td>\n",
       "      <td>Łódzkie</td>\n",
       "      <td>1998</td>\n",
       "    </tr>\n",
       "    <tr>\n",
       "      <th>1</th>\n",
       "      <td>alfa-romeo</td>\n",
       "      <td>Alfa Romeo GTV 2.0 16v TSpark</td>\n",
       "      <td>14000.0</td>\n",
       "      <td>133 760 km</td>\n",
       "      <td>manual</td>\n",
       "      <td>1 970 cm3</td>\n",
       "      <td>Benzyna</td>\n",
       "      <td>Mława</td>\n",
       "      <td>Mazowieckie</td>\n",
       "      <td>1998</td>\n",
       "    </tr>\n",
       "    <tr>\n",
       "      <th>2</th>\n",
       "      <td>alfa-romeo</td>\n",
       "      <td>Alfa Romeo 164 2.0 TSpark Super</td>\n",
       "      <td>4500.0</td>\n",
       "      <td>227 000 km</td>\n",
       "      <td>manual</td>\n",
       "      <td>1 970 cm3</td>\n",
       "      <td>Benzyna</td>\n",
       "      <td>Chełmża</td>\n",
       "      <td>Kujawsko-pomorskie</td>\n",
       "      <td>1996</td>\n",
       "    </tr>\n",
       "    <tr>\n",
       "      <th>3</th>\n",
       "      <td>alfa-romeo</td>\n",
       "      <td>Alfa Romeo Spider 2.0 TSpark</td>\n",
       "      <td>17100.0</td>\n",
       "      <td>227 000 km</td>\n",
       "      <td>manual</td>\n",
       "      <td>1 970 cm3</td>\n",
       "      <td>Benzyna</td>\n",
       "      <td>Jasło</td>\n",
       "      <td>Podkarpackie</td>\n",
       "      <td>1996</td>\n",
       "    </tr>\n",
       "    <tr>\n",
       "      <th>4</th>\n",
       "      <td>alfa-romeo</td>\n",
       "      <td>Alfa Romeo 156 1.6 TSpark 16v</td>\n",
       "      <td>3900.0</td>\n",
       "      <td>239 000 km</td>\n",
       "      <td>manual</td>\n",
       "      <td>1 995 cm3</td>\n",
       "      <td>Benzyna+LPG</td>\n",
       "      <td>Pabianice</td>\n",
       "      <td>Łódzkie</td>\n",
       "      <td>1995</td>\n",
       "    </tr>\n",
       "  </tbody>\n",
       "</table>\n",
       "</div>"
      ],
      "text/plain": [
       "        brand                            model  price_in_pln     mileage  \\\n",
       "0  alfa-romeo  Alfa Romeo Spider 2.0-16 TSpark       14700.0  133 760 km   \n",
       "1  alfa-romeo    Alfa Romeo GTV 2.0 16v TSpark       14000.0  133 760 km   \n",
       "2  alfa-romeo  Alfa Romeo 164 2.0 TSpark Super        4500.0  227 000 km   \n",
       "3  alfa-romeo     Alfa Romeo Spider 2.0 TSpark       17100.0  227 000 km   \n",
       "4  alfa-romeo    Alfa Romeo 156 1.6 TSpark 16v        3900.0  239 000 km   \n",
       "\n",
       "  gearbox engine_capacity    fuel_type       city         voivodeship  year  \n",
       "0  manual       1 970 cm3      Benzyna       Łask             Łódzkie  1998  \n",
       "1  manual       1 970 cm3      Benzyna      Mława         Mazowieckie  1998  \n",
       "2  manual       1 970 cm3      Benzyna    Chełmża  Kujawsko-pomorskie  1996  \n",
       "3  manual       1 970 cm3      Benzyna      Jasło        Podkarpackie  1996  \n",
       "4  manual       1 995 cm3  Benzyna+LPG  Pabianice             Łódzkie  1995  "
      ]
     },
     "execution_count": 21,
     "metadata": {},
     "output_type": "execute_result"
    }
   ],
   "source": [
    "#reading first rows of dataframe cars\n",
    "cars.head()"
   ]
  },
  {
   "cell_type": "code",
   "execution_count": 22,
   "id": "528bd4cf",
   "metadata": {},
   "outputs": [
    {
     "name": "stdout",
     "output_type": "stream",
     "text": [
      "<class 'pandas.core.frame.DataFrame'>\n",
      "RangeIndex: 91523 entries, 0 to 91522\n",
      "Data columns (total 10 columns):\n",
      " #   Column           Non-Null Count  Dtype  \n",
      "---  ------           --------------  -----  \n",
      " 0   brand            91523 non-null  object \n",
      " 1   model            91523 non-null  object \n",
      " 2   price_in_pln     91523 non-null  float64\n",
      " 3   mileage          91523 non-null  object \n",
      " 4   gearbox          91523 non-null  object \n",
      " 5   engine_capacity  91523 non-null  object \n",
      " 6   fuel_type        91523 non-null  object \n",
      " 7   city             91523 non-null  object \n",
      " 8   voivodeship      91523 non-null  object \n",
      " 9   year             91523 non-null  object \n",
      "dtypes: float64(1), object(9)\n",
      "memory usage: 7.0+ MB\n"
     ]
    }
   ],
   "source": [
    "#information about the \"cars\" DataFrame\n",
    "cars.info()"
   ]
  },
  {
   "cell_type": "code",
   "execution_count": 23,
   "id": "a01c2f93",
   "metadata": {},
   "outputs": [
    {
     "data": {
      "text/plain": [
       "brand              0\n",
       "model              0\n",
       "price_in_pln       0\n",
       "mileage            0\n",
       "gearbox            0\n",
       "engine_capacity    0\n",
       "fuel_type          0\n",
       "city               0\n",
       "voivodeship        0\n",
       "year               0\n",
       "dtype: int64"
      ]
     },
     "execution_count": 23,
     "metadata": {},
     "output_type": "execute_result"
    }
   ],
   "source": [
    "#count the number of missing values (NaN)\n",
    "cars.isna().sum()"
   ]
  },
  {
   "cell_type": "code",
   "execution_count": 24,
   "id": "a6dc0c62",
   "metadata": {},
   "outputs": [
    {
     "data": {
      "text/plain": [
       "brand                 43\n",
       "model              18641\n",
       "price_in_pln        8289\n",
       "mileage            14154\n",
       "gearbox                2\n",
       "engine_capacity      640\n",
       "fuel_type           1267\n",
       "city                4392\n",
       "voivodeship           26\n",
       "year                 349\n",
       "dtype: int64"
      ]
     },
     "execution_count": 24,
     "metadata": {},
     "output_type": "execute_result"
    }
   ],
   "source": [
    "#Calculate the number of unique values in each column\n",
    "cars.nunique()"
   ]
  },
  {
   "cell_type": "code",
   "execution_count": 25,
   "id": "c03fc997",
   "metadata": {},
   "outputs": [
    {
     "data": {
      "text/plain": [
       "(86274, 10)"
      ]
     },
     "execution_count": 25,
     "metadata": {},
     "output_type": "execute_result"
    }
   ],
   "source": [
    "#Cleaning year structure using string matches method to checking for word boundaries that are not starting with 19 followed by two digits or 20 followed by 2 digits\n",
    "#Assigning structures that not meeting criteria to mask\n",
    "mask=cars[\"year\"].str.match(r'\\b(?!(19\\d{2}|20\\d{2}))')==True\n",
    "#removing rows - with specified element that was assigned as mask without returning new dataframe\n",
    "cars.drop(cars[mask].index,inplace=True)\n",
    "#converting values in year column to integers\n",
    "cars[\"year\"]=cars[\"year\"].astype(int)\n",
    "#retrivig shape of cars DataFrame number of rows and columns\n",
    "cars.shape"
   ]
  },
  {
   "cell_type": "code",
   "execution_count": 26,
   "id": "05e58269",
   "metadata": {},
   "outputs": [
    {
     "data": {
      "text/plain": [
       "(86109, 10)"
      ]
     },
     "execution_count": 26,
     "metadata": {},
     "output_type": "execute_result"
    }
   ],
   "source": [
    "#Cleaning \"mileage\" column structure by creating mask that is True for rows where the \"mileage\" value does not end with \"km\" and False for rows where it does end with \"km\"\n",
    "mask=~(cars[\"mileage\"].str.contains(r'km$'))\n",
    "#Removing rows by using drop from database where the mask is True. So where there is no values ending with \"km\"\n",
    "cars.drop(cars[mask].index,inplace=True)\n",
    "#Using str.replace twice to remove characters 'km' and spaces from \"mileage\" column\n",
    "cars[\"mileage\"]=cars[\"mileage\"].str.replace('km','').str.replace(' ','')\n",
    "#converting values in \"mileage\" column to integers by using astype\n",
    "cars[\"mileage\"]=cars[\"mileage\"].astype(int)\n",
    "#retrivig shape of cleaned DataFrame number of rows and columns\n",
    "cars.shape"
   ]
  },
  {
   "cell_type": "code",
   "execution_count": 27,
   "id": "989371e1",
   "metadata": {},
   "outputs": [
    {
     "data": {
      "text/plain": [
       "(85677, 10)"
      ]
     },
     "execution_count": 27,
     "metadata": {},
     "output_type": "execute_result"
    }
   ],
   "source": [
    "#Cleaning \"engine_capacity\" column structure by creating mask that is True for rows where the \"engine_capacity\" value does not end with \"cm3\" and False for rows where it does end with \"cm3\"\n",
    "mask=~(cars[\"engine_capacity\"].str.contains(r'cm3$'))\n",
    "#Removing rows by using drop from database where the mask is True. So where there is no values ending with \"cm3\"\n",
    "cars.drop(cars[mask].index,inplace=True)\n",
    "#Using str.replace twice to remove characters 'cm3' and spaces from \"mileage\" column\n",
    "cars[\"engine_capacity\"]=cars[\"engine_capacity\"].str.replace('cm3','').str.replace(' ','')\n",
    "#converting values in \"mileage\" column to integers by using astype\n",
    "cars[\"engine_capacity\"]=cars[\"engine_capacity\"].astype(int)\n",
    "#retrivig shape of cleaned DataFrame number of rows and columns\n",
    "cars.shape"
   ]
  },
  {
   "cell_type": "code",
   "execution_count": 28,
   "id": "f4e793cd",
   "metadata": {},
   "outputs": [],
   "source": [
    "#Deleting rows that contain duplicates except for the first occurrence\n",
    "cars.drop_duplicates(keep=\"first\", inplace=True)"
   ]
  },
  {
   "cell_type": "code",
   "execution_count": 29,
   "id": "650b8deb",
   "metadata": {},
   "outputs": [
    {
     "data": {
      "text/html": [
       "<div>\n",
       "<style scoped>\n",
       "    .dataframe tbody tr th:only-of-type {\n",
       "        vertical-align: middle;\n",
       "    }\n",
       "\n",
       "    .dataframe tbody tr th {\n",
       "        vertical-align: top;\n",
       "    }\n",
       "\n",
       "    .dataframe thead th {\n",
       "        text-align: right;\n",
       "    }\n",
       "</style>\n",
       "<table border=\"1\" class=\"dataframe\">\n",
       "  <thead>\n",
       "    <tr style=\"text-align: right;\">\n",
       "      <th></th>\n",
       "      <th>brand</th>\n",
       "      <th>model</th>\n",
       "      <th>price_in_pln</th>\n",
       "      <th>mileage</th>\n",
       "      <th>gearbox</th>\n",
       "      <th>engine_capacity</th>\n",
       "      <th>fuel_type</th>\n",
       "      <th>city</th>\n",
       "      <th>voivodeship</th>\n",
       "      <th>year</th>\n",
       "    </tr>\n",
       "  </thead>\n",
       "  <tbody>\n",
       "    <tr>\n",
       "      <th>0</th>\n",
       "      <td>alfa-romeo</td>\n",
       "      <td>Alfa Romeo Spider 2.0-16 TSpark</td>\n",
       "      <td>14700.0</td>\n",
       "      <td>133760</td>\n",
       "      <td>manual</td>\n",
       "      <td>1970</td>\n",
       "      <td>Benzyna</td>\n",
       "      <td>Łask</td>\n",
       "      <td>Łódzkie</td>\n",
       "      <td>1998</td>\n",
       "    </tr>\n",
       "    <tr>\n",
       "      <th>1</th>\n",
       "      <td>alfa-romeo</td>\n",
       "      <td>Alfa Romeo GTV 2.0 16v TSpark</td>\n",
       "      <td>14000.0</td>\n",
       "      <td>133760</td>\n",
       "      <td>manual</td>\n",
       "      <td>1970</td>\n",
       "      <td>Benzyna</td>\n",
       "      <td>Mława</td>\n",
       "      <td>Mazowieckie</td>\n",
       "      <td>1998</td>\n",
       "    </tr>\n",
       "    <tr>\n",
       "      <th>2</th>\n",
       "      <td>alfa-romeo</td>\n",
       "      <td>Alfa Romeo 164 2.0 TSpark Super</td>\n",
       "      <td>4500.0</td>\n",
       "      <td>227000</td>\n",
       "      <td>manual</td>\n",
       "      <td>1970</td>\n",
       "      <td>Benzyna</td>\n",
       "      <td>Chełmża</td>\n",
       "      <td>Kujawsko-pomorskie</td>\n",
       "      <td>1996</td>\n",
       "    </tr>\n",
       "    <tr>\n",
       "      <th>3</th>\n",
       "      <td>alfa-romeo</td>\n",
       "      <td>Alfa Romeo Spider 2.0 TSpark</td>\n",
       "      <td>17100.0</td>\n",
       "      <td>227000</td>\n",
       "      <td>manual</td>\n",
       "      <td>1970</td>\n",
       "      <td>Benzyna</td>\n",
       "      <td>Jasło</td>\n",
       "      <td>Podkarpackie</td>\n",
       "      <td>1996</td>\n",
       "    </tr>\n",
       "    <tr>\n",
       "      <th>4</th>\n",
       "      <td>alfa-romeo</td>\n",
       "      <td>Alfa Romeo 156 1.6 TSpark 16v</td>\n",
       "      <td>3900.0</td>\n",
       "      <td>239000</td>\n",
       "      <td>manual</td>\n",
       "      <td>1995</td>\n",
       "      <td>Benzyna+LPG</td>\n",
       "      <td>Pabianice</td>\n",
       "      <td>Łódzkie</td>\n",
       "      <td>1995</td>\n",
       "    </tr>\n",
       "    <tr>\n",
       "      <th>...</th>\n",
       "      <td>...</td>\n",
       "      <td>...</td>\n",
       "      <td>...</td>\n",
       "      <td>...</td>\n",
       "      <td>...</td>\n",
       "      <td>...</td>\n",
       "      <td>...</td>\n",
       "      <td>...</td>\n",
       "      <td>...</td>\n",
       "      <td>...</td>\n",
       "    </tr>\n",
       "    <tr>\n",
       "      <th>91518</th>\n",
       "      <td>volvo</td>\n",
       "      <td>Volvo XC 90</td>\n",
       "      <td>379900.0</td>\n",
       "      <td>1024</td>\n",
       "      <td>automatic</td>\n",
       "      <td>1969</td>\n",
       "      <td>Hybryda</td>\n",
       "      <td>Szczecin</td>\n",
       "      <td>Zachodniopomorskie</td>\n",
       "      <td>2022</td>\n",
       "    </tr>\n",
       "    <tr>\n",
       "      <th>91519</th>\n",
       "      <td>volvo</td>\n",
       "      <td>Volvo XC 90 T6 AWD Inscription 7os</td>\n",
       "      <td>246000.0</td>\n",
       "      <td>1024</td>\n",
       "      <td>automatic</td>\n",
       "      <td>1969</td>\n",
       "      <td>Hybryda</td>\n",
       "      <td>Siedlce</td>\n",
       "      <td>Mazowieckie</td>\n",
       "      <td>2022</td>\n",
       "    </tr>\n",
       "    <tr>\n",
       "      <th>91520</th>\n",
       "      <td>volvo</td>\n",
       "      <td>Volvo V60 T4 R-Design</td>\n",
       "      <td>159900.0</td>\n",
       "      <td>8847</td>\n",
       "      <td>automatic</td>\n",
       "      <td>1969</td>\n",
       "      <td>Benzyna</td>\n",
       "      <td>Pyrzowice</td>\n",
       "      <td>Śląskie</td>\n",
       "      <td>2020</td>\n",
       "    </tr>\n",
       "    <tr>\n",
       "      <th>91521</th>\n",
       "      <td>volvo</td>\n",
       "      <td>Volvo XC 40 T5 AWD Momentum Pro</td>\n",
       "      <td>146000.0</td>\n",
       "      <td>8847</td>\n",
       "      <td>automatic</td>\n",
       "      <td>1969</td>\n",
       "      <td>Benzyna</td>\n",
       "      <td>Żmigród</td>\n",
       "      <td>Dolnośląskie</td>\n",
       "      <td>2020</td>\n",
       "    </tr>\n",
       "    <tr>\n",
       "      <th>91522</th>\n",
       "      <td>volvo</td>\n",
       "      <td>Volvo XC 40 T3 Inscription</td>\n",
       "      <td>108900.0</td>\n",
       "      <td>34000</td>\n",
       "      <td>automatic</td>\n",
       "      <td>1969</td>\n",
       "      <td>Benzyna</td>\n",
       "      <td>Ostrów Wielkopolski</td>\n",
       "      <td>Wielkopolskie</td>\n",
       "      <td>2020</td>\n",
       "    </tr>\n",
       "  </tbody>\n",
       "</table>\n",
       "<p>77688 rows × 10 columns</p>\n",
       "</div>"
      ],
      "text/plain": [
       "            brand                               model  price_in_pln  mileage  \\\n",
       "0      alfa-romeo     Alfa Romeo Spider 2.0-16 TSpark       14700.0   133760   \n",
       "1      alfa-romeo       Alfa Romeo GTV 2.0 16v TSpark       14000.0   133760   \n",
       "2      alfa-romeo     Alfa Romeo 164 2.0 TSpark Super        4500.0   227000   \n",
       "3      alfa-romeo        Alfa Romeo Spider 2.0 TSpark       17100.0   227000   \n",
       "4      alfa-romeo       Alfa Romeo 156 1.6 TSpark 16v        3900.0   239000   \n",
       "...           ...                                 ...           ...      ...   \n",
       "91518       volvo                         Volvo XC 90      379900.0     1024   \n",
       "91519       volvo  Volvo XC 90 T6 AWD Inscription 7os      246000.0     1024   \n",
       "91520       volvo               Volvo V60 T4 R-Design      159900.0     8847   \n",
       "91521       volvo     Volvo XC 40 T5 AWD Momentum Pro      146000.0     8847   \n",
       "91522       volvo          Volvo XC 40 T3 Inscription      108900.0    34000   \n",
       "\n",
       "         gearbox  engine_capacity    fuel_type                 city  \\\n",
       "0         manual             1970      Benzyna                 Łask   \n",
       "1         manual             1970      Benzyna                Mława   \n",
       "2         manual             1970      Benzyna              Chełmża   \n",
       "3         manual             1970      Benzyna                Jasło   \n",
       "4         manual             1995  Benzyna+LPG            Pabianice   \n",
       "...          ...              ...          ...                  ...   \n",
       "91518  automatic             1969      Hybryda             Szczecin   \n",
       "91519  automatic             1969      Hybryda              Siedlce   \n",
       "91520  automatic             1969      Benzyna            Pyrzowice   \n",
       "91521  automatic             1969      Benzyna              Żmigród   \n",
       "91522  automatic             1969      Benzyna  Ostrów Wielkopolski   \n",
       "\n",
       "              voivodeship  year  \n",
       "0                 Łódzkie  1998  \n",
       "1             Mazowieckie  1998  \n",
       "2      Kujawsko-pomorskie  1996  \n",
       "3            Podkarpackie  1996  \n",
       "4                 Łódzkie  1995  \n",
       "...                   ...   ...  \n",
       "91518  Zachodniopomorskie  2022  \n",
       "91519         Mazowieckie  2022  \n",
       "91520             Śląskie  2020  \n",
       "91521        Dolnośląskie  2020  \n",
       "91522       Wielkopolskie  2020  \n",
       "\n",
       "[77688 rows x 10 columns]"
      ]
     },
     "execution_count": 29,
     "metadata": {},
     "output_type": "execute_result"
    }
   ],
   "source": [
    "#assigning new name to dataframe\n",
    "used_cars_pl = cars\n",
    "used_cars_pl"
   ]
  },
  {
   "cell_type": "code",
   "execution_count": 30,
   "id": "b70b0479",
   "metadata": {},
   "outputs": [
    {
     "data": {
      "text/html": [
       "<div>\n",
       "<style scoped>\n",
       "    .dataframe tbody tr th:only-of-type {\n",
       "        vertical-align: middle;\n",
       "    }\n",
       "\n",
       "    .dataframe tbody tr th {\n",
       "        vertical-align: top;\n",
       "    }\n",
       "\n",
       "    .dataframe thead th {\n",
       "        text-align: right;\n",
       "    }\n",
       "</style>\n",
       "<table border=\"1\" class=\"dataframe\">\n",
       "  <thead>\n",
       "    <tr style=\"text-align: right;\">\n",
       "      <th></th>\n",
       "      <th>count</th>\n",
       "      <th>mean</th>\n",
       "      <th>std</th>\n",
       "      <th>min</th>\n",
       "      <th>25%</th>\n",
       "      <th>50%</th>\n",
       "      <th>75%</th>\n",
       "      <th>max</th>\n",
       "    </tr>\n",
       "  </thead>\n",
       "  <tbody>\n",
       "    <tr>\n",
       "      <th>price_in_pln</th>\n",
       "      <td>77688.0</td>\n",
       "      <td>79190.416770</td>\n",
       "      <td>99643.204063</td>\n",
       "      <td>1111.0</td>\n",
       "      <td>26500.0</td>\n",
       "      <td>49900.0</td>\n",
       "      <td>94000.0</td>\n",
       "      <td>2599000.0</td>\n",
       "    </tr>\n",
       "    <tr>\n",
       "      <th>mileage</th>\n",
       "      <td>77688.0</td>\n",
       "      <td>141501.132865</td>\n",
       "      <td>93051.729015</td>\n",
       "      <td>1.0</td>\n",
       "      <td>67000.0</td>\n",
       "      <td>141940.0</td>\n",
       "      <td>204688.0</td>\n",
       "      <td>730000.0</td>\n",
       "    </tr>\n",
       "    <tr>\n",
       "      <th>engine_capacity</th>\n",
       "      <td>77688.0</td>\n",
       "      <td>1864.503372</td>\n",
       "      <td>750.040232</td>\n",
       "      <td>1.0</td>\n",
       "      <td>1461.0</td>\n",
       "      <td>1686.0</td>\n",
       "      <td>1995.0</td>\n",
       "      <td>8300.0</td>\n",
       "    </tr>\n",
       "    <tr>\n",
       "      <th>year</th>\n",
       "      <td>77688.0</td>\n",
       "      <td>2014.186502</td>\n",
       "      <td>5.795002</td>\n",
       "      <td>1995.0</td>\n",
       "      <td>2010.0</td>\n",
       "      <td>2015.0</td>\n",
       "      <td>2019.0</td>\n",
       "      <td>2023.0</td>\n",
       "    </tr>\n",
       "  </tbody>\n",
       "</table>\n",
       "</div>"
      ],
      "text/plain": [
       "                   count           mean           std     min      25%  \\\n",
       "price_in_pln     77688.0   79190.416770  99643.204063  1111.0  26500.0   \n",
       "mileage          77688.0  141501.132865  93051.729015     1.0  67000.0   \n",
       "engine_capacity  77688.0    1864.503372    750.040232     1.0   1461.0   \n",
       "year             77688.0    2014.186502      5.795002  1995.0   2010.0   \n",
       "\n",
       "                      50%       75%        max  \n",
       "price_in_pln      49900.0   94000.0  2599000.0  \n",
       "mileage          141940.0  204688.0   730000.0  \n",
       "engine_capacity    1686.0    1995.0     8300.0  \n",
       "year               2015.0    2019.0     2023.0  "
      ]
     },
     "execution_count": 30,
     "metadata": {},
     "output_type": "execute_result"
    }
   ],
   "source": [
    "#Generating descriptive statistics for each column and Transpose - create a reflection of the making rows as columns and vice versa\n",
    "used_cars_pl.describe().T"
   ]
  },
  {
   "cell_type": "code",
   "execution_count": 31,
   "id": "05aef883",
   "metadata": {},
   "outputs": [],
   "source": [
    "#exporting dataframe to csv file\n",
    "used_cars_pl.to_csv(\"used_cars_pl.csv\", index=False)"
   ]
  },
  {
   "cell_type": "code",
   "execution_count": 32,
   "id": "f660a724",
   "metadata": {},
   "outputs": [
    {
     "name": "stdout",
     "output_type": "stream",
     "text": [
      "          brand_x                             model_x  price_in_pln  mileage  \\\n",
      "0      alfa-romeo     Alfa Romeo Spider 2.0-16 TSpark       14700.0   133760   \n",
      "1      alfa-romeo       Alfa Romeo GTV 2.0 16v TSpark       14000.0   133760   \n",
      "2      alfa-romeo     Alfa Romeo 164 2.0 TSpark Super        4500.0   227000   \n",
      "3      alfa-romeo        Alfa Romeo Spider 2.0 TSpark       17100.0   227000   \n",
      "4      alfa-romeo       Alfa Romeo 156 1.6 TSpark 16v        3900.0   239000   \n",
      "...           ...                                 ...           ...      ...   \n",
      "77683       volvo                         Volvo XC 90      379900.0     1024   \n",
      "77684       volvo  Volvo XC 90 T6 AWD Inscription 7os      246000.0     1024   \n",
      "77685       volvo               Volvo V60 T4 R-Design      159900.0     8847   \n",
      "77686       volvo     Volvo XC 40 T5 AWD Momentum Pro      146000.0     8847   \n",
      "77687       volvo          Volvo XC 40 T3 Inscription      108900.0    34000   \n",
      "\n",
      "         gearbox  engine_capacity    fuel_type                 city  \\\n",
      "0         manual             1970      Benzyna                 Łask   \n",
      "1         manual             1970      Benzyna                Mława   \n",
      "2         manual             1970      Benzyna              Chełmża   \n",
      "3         manual             1970      Benzyna                Jasło   \n",
      "4         manual             1995  Benzyna+LPG            Pabianice   \n",
      "...          ...              ...          ...                  ...   \n",
      "77683  automatic             1969      Hybryda             Szczecin   \n",
      "77684  automatic             1969      Hybryda              Siedlce   \n",
      "77685  automatic             1969      Benzyna            Pyrzowice   \n",
      "77686  automatic             1969      Benzyna              Żmigród   \n",
      "77687  automatic             1969      Benzyna  Ostrów Wielkopolski   \n",
      "\n",
      "              voivodeship  year  Year  Place model_y  Points brand_y  \n",
      "0                 Łódzkie  1998   NaN    NaN     NaN     NaN     NaN  \n",
      "1             Mazowieckie  1998   NaN    NaN     NaN     NaN     NaN  \n",
      "2      Kujawsko-pomorskie  1996   NaN    NaN     NaN     NaN     NaN  \n",
      "3            Podkarpackie  1996   NaN    NaN     NaN     NaN     NaN  \n",
      "4                 Łódzkie  1995   NaN    NaN     NaN     NaN     NaN  \n",
      "...                   ...   ...   ...    ...     ...     ...     ...  \n",
      "77683  Zachodniopomorskie  2022   NaN    NaN     NaN     NaN     NaN  \n",
      "77684         Mazowieckie  2022   NaN    NaN     NaN     NaN     NaN  \n",
      "77685             Śląskie  2020   NaN    NaN     NaN     NaN     NaN  \n",
      "77686        Dolnośląskie  2020   NaN    NaN     NaN     NaN     NaN  \n",
      "77687       Wielkopolskie  2020   NaN    NaN     NaN     NaN     NaN  \n",
      "\n",
      "[77688 rows x 15 columns]\n"
     ]
    }
   ],
   "source": [
    "# Extract the first three words from the 'model' column in both DataFrames\n",
    "used_cars_pl['model_key'] = used_cars_pl['model'].str.split().str[:3].str.join(' ')\n",
    "ecoty_updated['model_key'] = ecoty_updated['model'].str.split().str[:3].str.join(' ')\n",
    "\n",
    "# Merge the DataFrames based on the 'model_key' column\n",
    "merged_df = pd.merge(used_cars_pl, ecoty_updated, on='model_key', how='left')\n",
    "\n",
    "# Remove the 'model_key' column\n",
    "merged_df = merged_df.drop('model_key', axis=1)\n",
    "\n",
    "# Print the merged DataFrame\n",
    "print(merged_df)"
   ]
  },
  {
   "cell_type": "code",
   "execution_count": 33,
   "id": "3fc13995",
   "metadata": {},
   "outputs": [],
   "source": [
    "#export merged file to csv\n",
    "merged_df.to_csv(\"merged_df.csv\", index=False)"
   ]
  },
  {
   "cell_type": "code",
   "execution_count": 34,
   "id": "b33309ce",
   "metadata": {},
   "outputs": [],
   "source": [
    "#cleaning up dataframe by droping columns\n",
    "df = merged_df.drop(['Place', 'Points', 'model_y', 'brand_y'], axis=1)"
   ]
  },
  {
   "cell_type": "code",
   "execution_count": 35,
   "id": "803286ee",
   "metadata": {},
   "outputs": [],
   "source": [
    "#cleaning up dataframe by renaming columns\n",
    "df = df.rename(columns={'Year': 'Car Of The Year', 'brand_x' : 'brand', 'model_x' : 'model'})"
   ]
  },
  {
   "cell_type": "code",
   "execution_count": 36,
   "id": "b0cb8950",
   "metadata": {},
   "outputs": [],
   "source": [
    "#cleaning up dataframe by replacing multiple names for Alfa Romeo 147 in model column\n",
    "df['model'] = df['model'].str.replace(r'^Alfa Romeo 147(.*)', 'Alfa Romeo 147', regex=True)"
   ]
  },
  {
   "cell_type": "code",
   "execution_count": 37,
   "id": "a600bc8e",
   "metadata": {},
   "outputs": [
    {
     "name": "stdout",
     "output_type": "stream",
     "text": [
      "            brand                               model  price_in_pln  mileage  \\\n",
      "0      alfa-romeo     Alfa Romeo Spider 2.0-16 TSpark       14700.0   133760   \n",
      "1      alfa-romeo       Alfa Romeo GTV 2.0 16v TSpark       14000.0   133760   \n",
      "2      alfa-romeo     Alfa Romeo 164 2.0 TSpark Super        4500.0   227000   \n",
      "3      alfa-romeo        Alfa Romeo Spider 2.0 TSpark       17100.0   227000   \n",
      "4      alfa-romeo       Alfa Romeo 156 1.6 TSpark 16v        3900.0   239000   \n",
      "...           ...                                 ...           ...      ...   \n",
      "77683       volvo                         Volvo XC 90      379900.0     1024   \n",
      "77684       volvo  Volvo XC 90 T6 AWD Inscription 7os      246000.0     1024   \n",
      "77685       volvo               Volvo V60 T4 R-Design      159900.0     8847   \n",
      "77686       volvo     Volvo XC 40 T5 AWD Momentum Pro      146000.0     8847   \n",
      "77687       volvo          Volvo XC 40 T3 Inscription      108900.0    34000   \n",
      "\n",
      "         gearbox  engine_capacity    fuel_type                 city  \\\n",
      "0         manual             1970      Benzyna                 Łask   \n",
      "1         manual             1970      Benzyna                Mława   \n",
      "2         manual             1970      Benzyna              Chełmża   \n",
      "3         manual             1970      Benzyna                Jasło   \n",
      "4         manual             1995  Benzyna+LPG            Pabianice   \n",
      "...          ...              ...          ...                  ...   \n",
      "77683  automatic             1969      Hybryda             Szczecin   \n",
      "77684  automatic             1969      Hybryda              Siedlce   \n",
      "77685  automatic             1969      Benzyna            Pyrzowice   \n",
      "77686  automatic             1969      Benzyna              Żmigród   \n",
      "77687  automatic             1969      Benzyna  Ostrów Wielkopolski   \n",
      "\n",
      "              voivodeship  year  Car Of The Year  \n",
      "0                 Łódzkie  1998              NaN  \n",
      "1             Mazowieckie  1998              NaN  \n",
      "2      Kujawsko-pomorskie  1996              NaN  \n",
      "3            Podkarpackie  1996              NaN  \n",
      "4                 Łódzkie  1995              NaN  \n",
      "...                   ...   ...              ...  \n",
      "77683  Zachodniopomorskie  2022              NaN  \n",
      "77684         Mazowieckie  2022              NaN  \n",
      "77685             Śląskie  2020              NaN  \n",
      "77686        Dolnośląskie  2020              NaN  \n",
      "77687       Wielkopolskie  2020              NaN  \n",
      "\n",
      "[77688 rows x 11 columns]\n"
     ]
    }
   ],
   "source": [
    "print(df)"
   ]
  },
  {
   "cell_type": "code",
   "execution_count": 38,
   "id": "313153de",
   "metadata": {},
   "outputs": [
    {
     "data": {
      "image/png": "[encoded data removed]",
      "text/plain": [
       "<Figure size 720x432 with 1 Axes>"
      ]
     },
     "metadata": {
      "needs_background": "light"
     },
     "output_type": "display_data"
    },
    {
     "data": {
      "image/png": "[encoded data removed]",
      "text/plain": [
       "<Figure size 1152x720 with 1 Axes>"
      ]
     },
     "metadata": {
      "needs_background": "light"
     },
     "output_type": "display_data"
    }
   ],
   "source": [
    "# Filter the cars awarded Car of The Year\n",
    "coty_cars = df[df['Car Of The Year'].notna()]\n",
    "\n",
    "# Calculate average prices for Car of The Year and other cars\n",
    "coty_avg_price = coty_cars['price_in_pln'].mean()\n",
    "non_coty_avg_price = df[df['Car Of The Year'].isna()]['price_in_pln'].mean()\n",
    "\n",
    "# Create the bar chart for average prices\n",
    "plt.figure(figsize=(10, 6))\n",
    "plt.bar(['Car of The Year', 'Other Cars'], [coty_avg_price, non_coty_avg_price])\n",
    "plt.xlabel('Car Type')\n",
    "plt.ylabel('Average Price (PLN)')\n",
    "plt.title('Comparison of Average Prices - Car of The Year vs. Other Cars')\n",
    "\n",
    "# Create the count plot for cars awarded Car of The Year in each voivodeship\n",
    "plt.figure(figsize=(16, 10))\n",
    "sns.countplot(x='voivodeship', data=coty_cars)\n",
    "plt.xticks(rotation=90, fontsize=12)\n",
    "plt.title(\"Number of Cars with Car of The Year Award available on used car market in each voivodeship\", fontsize=16)\n",
    "plt.xlabel('Voivodeship')\n",
    "plt.ylabel('Count')\n",
    "\n",
    "# Show the plots\n",
    "plt.show()"
   ]
  },
  {
   "cell_type": "code",
   "execution_count": 39,
   "id": "e61dcfbb",
   "metadata": {},
   "outputs": [
    {
     "data": {
      "image/png": "[encoded data removed]",
      "text/plain": [
       "<Figure size 720x432 with 1 Axes>"
      ]
     },
     "metadata": {
      "needs_background": "light"
     },
     "output_type": "display_data"
    }
   ],
   "source": [
    "# Group and count the number of cars by year from used_cars_pl DataFrame\n",
    "used_cars_counts = used_cars_pl.groupby('year').count()['model']\n",
    "\n",
    "# Create the bar chart for the number of cars by year\n",
    "ax = used_cars_counts.plot(kind='bar', grid=True, color='teal', figsize=(10, 6))\n",
    "\n",
    "# Overlay the data from coty_cars DataFrame\n",
    "coty_counts = coty_cars.groupby('year').count()['model']\n",
    "coty_counts.plot(kind='bar', grid=True, color='black', ax=ax, alpha=1)\n",
    "\n",
    "# Set the x-axis and y-axis labels and the chart title\n",
    "plt.xlabel('Year')\n",
    "plt.ylabel('Amount of Cars')\n",
    "plt.title('Amount of Cars by Years')\n",
    "\n",
    "# Show the chart\n",
    "plt.show()"
   ]
  },
  {
   "cell_type": "code",
   "execution_count": 40,
   "id": "8ba27b92",
   "metadata": {},
   "outputs": [
    {
     "data": {
      "image/png": "[encoded data removed]",
      "text/plain": [
       "<Figure size 432x288 with 1 Axes>"
      ]
     },
     "metadata": {
      "needs_background": "light"
     },
     "output_type": "display_data"
    }
   ],
   "source": [
    "# Assuming you have two DataFrames named 'df' and 'used_cars_pl', both with a column 'model'\n",
    "\n",
    "# Get the top 20 most common cars in each DataFrame\n",
    "top_20_df = coty_cars['model'].value_counts().nlargest(20)\n",
    "top_20_used_cars_pl = used_cars_pl['model'].value_counts().nlargest(20)\n",
    "\n",
    "# Combine the top 20 cars from both DataFrames\n",
    "combined_top_20 = pd.concat([top_20_df, top_20_used_cars_pl], axis=1)\n",
    "combined_top_20.columns = ['Awarded Car Of The Year', 'Used Cars']\n",
    "\n",
    "# Create the comparison bar chart\n",
    "combined_top_20.plot(kind='bar')\n",
    "plt.xlabel('Car Model')\n",
    "plt.ylabel('Count')\n",
    "plt.title('Comparison of popularity of top used cars on polish market')\n",
    "\n",
    "# Rotate the x-axis labels if needed\n",
    "plt.xticks(rotation=90)\n",
    "\n",
    "# Show the plot\n",
    "plt.show()"
   ]
  },
  {
   "cell_type": "code",
   "execution_count": null,
   "id": "1649f99e",
   "metadata": {},
   "outputs": [],
   "source": []
  }
 ],
 "metadata": {
  "kernelspec": {
   "display_name": "Python 3",
   "language": "python",
   "name": "python3"
  },
  "language_info": {
   "codemirror_mode": {
    "name": "ipython",
    "version": 3
   },
   "file_extension": ".py",
   "mimetype": "text/x-python",
   "name": "python",
   "nbconvert_exporter": "python",
   "pygments_lexer": "ipython3",
   "version": "3.8.8"
  }
 },
 "nbformat": 4,
 "nbformat_minor": 5
}
